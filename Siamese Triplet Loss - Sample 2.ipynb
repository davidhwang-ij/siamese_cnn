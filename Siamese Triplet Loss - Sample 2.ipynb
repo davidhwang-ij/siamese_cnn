{
 "cells": [
  {
   "cell_type": "code",
   "execution_count": 1,
   "id": "b84c79dd",
   "metadata": {},
   "outputs": [],
   "source": [
    "import matplotlib.pyplot as plt\n",
    "import numpy as np\n",
    "import os\n",
    "import random\n",
    "import tensorflow as tf\n",
    "from pathlib import Path\n",
    "from tensorflow.keras import applications\n",
    "from tensorflow.keras import layers\n",
    "from tensorflow.keras import losses\n",
    "from tensorflow.keras import optimizers\n",
    "from tensorflow.keras import metrics\n",
    "from tensorflow.keras import Model\n",
    "from tensorflow.keras.layers import Layer, Input, Dense, Flatten, Lambda, Conv2D, MaxPooling2D\n",
    "from tensorflow.keras.applications import VGG16, vgg16"
   ]
  },
  {
   "cell_type": "code",
   "execution_count": 2,
   "id": "a4ef1775",
   "metadata": {},
   "outputs": [],
   "source": [
    "from matplotlib import gridspec"
   ]
  },
  {
   "cell_type": "markdown",
   "id": "e9ea8141",
   "metadata": {},
   "source": [
    "## GPU Setup"
   ]
  },
  {
   "cell_type": "code",
   "execution_count": 3,
   "id": "8e8e20dc",
   "metadata": {},
   "outputs": [
    {
     "name": "stdout",
     "output_type": "stream",
     "text": [
      "GPU is available\n",
      "Number GPUs Available:  1\n",
      "1 Physical GPUs, Logical GPU\n",
      "Memory growth set to: True \n"
     ]
    },
    {
     "name": "stderr",
     "output_type": "stream",
     "text": [
      "2022-03-21 19:41:54.048858: I tensorflow/core/platform/cpu_feature_guard.cc:151] This TensorFlow binary is optimized with oneAPI Deep Neural Network Library (oneDNN) to use the following CPU instructions in performance-critical operations:  AVX2 AVX512F FMA\n",
      "To enable them in other operations, rebuild TensorFlow with the appropriate compiler flags.\n",
      "2022-03-21 19:41:54.769994: I tensorflow/core/common_runtime/gpu/gpu_device.cc:1525] Created device /job:localhost/replica:0/task:0/device:GPU:0 with 30452 MB memory:  -> device: 0, name: NVIDIA A40, pci bus id: 0000:65:00.0, compute capability: 8.6\n"
     ]
    }
   ],
   "source": [
    "# Check availability of GPU\n",
    "import nvidia_smi \n",
    "\n",
    "GPU = 1\n",
    "os.environ[\"CUDA_VISIBLE_DEVICES\"] = '{}'.format(GPU)\n",
    "\n",
    "gpus = tf.config.experimental.list_physical_devices('GPU')\n",
    "print('GPU is', 'available' if gpus else 'NOT AVAILABLE')\n",
    "print('Number GPUs Available: ', len(gpus))\n",
    "\n",
    "\n",
    "# Restrict TensorFlow to only use the MENTIONED GPU\n",
    "if gpus:\n",
    "    try:\n",
    "        tf.config.experimental.set_memory_growth(gpus[0], True)\n",
    "        tf.config.experimental.set_visible_devices(gpus[0], 'GPU')\n",
    "        logical_gpus = tf.config.experimental.list_logical_devices('GPU')\n",
    "        print('{} Physical GPUs, Logical GPU'.format(len(gpus), len(logical_gpus)))\n",
    "        print('Memory growth set to: {} '.format(str(tf.config.experimental.get_memory_growth(gpus[0]))))\n",
    "    except RuntimeError as e:\n",
    "        # Visible devices must be set before GPUs have been initialized\n",
    "        print(e)"
   ]
  },
  {
   "cell_type": "code",
   "execution_count": 4,
   "id": "80e0722b",
   "metadata": {},
   "outputs": [],
   "source": [
    "# Initiate NVIDIA-SMI\n",
    "nvidia_smi.nvmlInit()\n",
    "handle = nvidia_smi.nvmlDeviceGetHandleByIndex(GPU)"
   ]
  },
  {
   "cell_type": "code",
   "execution_count": 5,
   "id": "0942d12d",
   "metadata": {},
   "outputs": [],
   "source": [
    "import os\n",
    "from matplotlib.image import imread\n",
    "import numpy as np\n",
    "\n",
    "\n",
    "class PreProcessing:\n",
    "\n",
    "    images_train = np.array([])\n",
    "    images_test = np.array([])\n",
    "    labels_train = np.array([])\n",
    "    labels_test = np.array([])\n",
    "    unique_train_label = np.array([])\n",
    "    map_train_label_indices = dict()\n",
    "\n",
    "    def __init__(self,data_src):\n",
    "        self.data_src = data_src\n",
    "        print(\"Loading Geological Similarity Dataset...\")\n",
    "        self.images_train, self.images_test, self.labels_train, self.labels_test = self.preprocessing(0.9)\n",
    "        self.unique_train_label = np.unique(self.labels_train)\n",
    "        self.map_train_label_indices = {label: np.flatnonzero(self.labels_train == label) for label in\n",
    "                                        self.unique_train_label}\n",
    "        print('Preprocessing Done. Summary:')\n",
    "        print(\"Images train :\", self.images_train.shape)\n",
    "        print(\"Labels train :\", self.labels_train.shape)\n",
    "        print(\"Images test  :\", self.images_test.shape)\n",
    "        print(\"Labels test  :\", self.labels_test.shape)\n",
    "        print(\"Unique label :\", self.unique_train_label)\n",
    "\n",
    "    def normalize(self,x):\n",
    "        min_val = np.min(x)\n",
    "        max_val = np.max(x)\n",
    "        x = (x - min_val) / (max_val - min_val)\n",
    "        return x\n",
    "\n",
    "    def read_dataset(self):\n",
    "        X = []\n",
    "        y = []\n",
    "        for directory in os.listdir(self.data_src):\n",
    "            try:\n",
    "                for pic in os.listdir(os.path.join(self.data_src, directory)):\n",
    "                    img = imread(os.path.join(self.data_src, directory, pic))\n",
    "                    X.append(np.squeeze(np.asarray(img)))\n",
    "                    y.append(directory)\n",
    "            except Exception as e:\n",
    "                print('Failed to read images from Directory: ', directory)\n",
    "                print('Exception Message: ', e)\n",
    "        print('Dataset loaded successfully.')\n",
    "        return X,y\n",
    "\n",
    "    def preprocessing(self,train_test_ratio):\n",
    "        X, y = self.read_dataset()\n",
    "        labels = list(set(y))\n",
    "        label_dict = dict(zip(labels, range(len(labels))))\n",
    "        Y = np.asarray([label_dict[label] for label in y])\n",
    "        X = [self.normalize(x) for x in X]                                  # normalize images\n",
    "\n",
    "        shuffle_indices = np.random.permutation(np.arange(len(y)))\n",
    "        x_shuffled = []\n",
    "        y_shuffled = []\n",
    "        for index in shuffle_indices:\n",
    "            x_shuffled.append(X[index])\n",
    "            y_shuffled.append(Y[index])\n",
    "\n",
    "        size_of_dataset = len(x_shuffled)\n",
    "        n_train = int(np.ceil(size_of_dataset * train_test_ratio))\n",
    "        return np.asarray(x_shuffled[0:n_train]), np.asarray(x_shuffled[n_train + 1:size_of_dataset]), np.asarray(\n",
    "            y_shuffled[0:n_train]), np.asarray(y_shuffled[\n",
    "                                               n_train + 1:size_of_dataset])\n",
    "\n",
    "\n",
    "    def get_triplets(self):\n",
    "        label_l, label_r = np.random.choice(self.unique_train_label, 2, replace=False)\n",
    "        a, p = np.random.choice(self.map_train_label_indices[label_l],2, replace=False)\n",
    "        n = np.random.choice(self.map_train_label_indices[label_r])\n",
    "        return a, p, n\n",
    "\n",
    "    def get_triplets_batch(self):\n",
    "        idxs_a, idxs_p, idxs_n = [], [], []\n",
    "        n = len(self.labels_train)\n",
    "        for _ in range(n):\n",
    "            a, p, n = self.get_triplets()\n",
    "            idxs_a.append(a)\n",
    "            idxs_p.append(p)\n",
    "            idxs_n.append(n)\n",
    "            \n",
    "        anchor_dataset = tf.data.Dataset.from_tensor_slices(self.images_train[idxs_a,:])\n",
    "        positive_dataset = tf.data.Dataset.from_tensor_slices(self.images_train[idxs_p,:])\n",
    "        negative_dataset = tf.data.Dataset.from_tensor_slices(self.images_train[idxs_n, :])\n",
    "\n",
    "        dataset = tf.data.Dataset.zip((anchor_dataset, positive_dataset, negative_dataset))\n",
    "        \n",
    "        return dataset"
   ]
  },
  {
   "cell_type": "code",
   "execution_count": 6,
   "id": "994cbdc5",
   "metadata": {},
   "outputs": [],
   "source": [
    "class TripletLoss:\n",
    "    \n",
    "    def embedding(self):\n",
    "        inp = Input(shape=(28,28,3))\n",
    "        \n",
    "        # first block\n",
    "        c1 = Conv2D(32, (7,7), activation='relu', padding='same', kernel_initializer=tf.keras.initializers.GlorotNormal())(inp)\n",
    "        m1 = MaxPooling2D((2,2), padding='same')(c1)\n",
    "\n",
    "        # second block\n",
    "        c2 = Conv2D(64, (5,5), activation='relu', padding='same', kernel_initializer=tf.keras.initializers.GlorotNormal())(m1)\n",
    "        m2 = MaxPooling2D((2,2), padding='same')(c2)\n",
    "\n",
    "        # third block\n",
    "        c3 = Conv2D(128, (3,3), activation='relu', padding='same', kernel_initializer=tf.keras.initializers.GlorotNormal())(m2)\n",
    "        m3 = MaxPooling2D((2,2), padding='same')(c3)\n",
    "        \n",
    "        # fourth block\n",
    "        c4 = Conv2D(256, (1,1), activation='relu', padding='same', kernel_initializer=tf.keras.initializers.GlorotNormal())(m3)\n",
    "        m4 = MaxPooling2D((2,2), padding='same')(c4)\n",
    "\n",
    "        c5 = Conv2D(28, (1,1), activation=None, padding='same', kernel_initializer=tf.keras.initializers.GlorotNormal())(m4)\n",
    "        m5 = MaxPooling2D((2,2), padding='same')(c5)\n",
    "\n",
    "\n",
    "        f1 = Flatten()(m5)\n",
    "        \n",
    "        return Model(inputs=[inp], outputs=[f1], name='embedding')"
   ]
  },
  {
   "cell_type": "code",
   "execution_count": 7,
   "id": "ba7a8fbe",
   "metadata": {},
   "outputs": [],
   "source": [
    "class DistanceLayer(layers.Layer):\n",
    "    \"\"\"\n",
    "    This layer is responsible for computing the distance between the anchor\n",
    "    embedding and the positive embedding, and the anchor embedding and the\n",
    "    negative embedding.\n",
    "    \"\"\"\n",
    "\n",
    "    def __init__(self, **kwargs):\n",
    "        super().__init__(**kwargs)\n",
    "\n",
    "    def call(self, anchor, positive, negative):\n",
    "        ap_distance = tf.reduce_sum(tf.square(anchor - positive), -1)\n",
    "        an_distance = tf.reduce_sum(tf.square(anchor - negative), -1)\n",
    "        return (ap_distance, an_distance)"
   ]
  },
  {
   "cell_type": "code",
   "execution_count": 8,
   "id": "4b5d38ba",
   "metadata": {
    "scrolled": false
   },
   "outputs": [
    {
     "name": "stdout",
     "output_type": "stream",
     "text": [
      "Loading Geological Similarity Dataset...\n",
      "Dataset loaded successfully.\n",
      "Preprocessing Done. Summary:\n",
      "Images train : (26999, 28, 28, 3)\n",
      "Labels train : (26999,)\n",
      "Images test  : (2998, 28, 28, 3)\n",
      "Labels test  : (2998,)\n",
      "Unique label : [0 1 2 3 4 5]\n"
     ]
    }
   ],
   "source": [
    "dataset = PreProcessing('./sample2/data_repository/geological_similarity/')"
   ]
  },
  {
   "cell_type": "code",
   "execution_count": 9,
   "id": "5ec247e9",
   "metadata": {},
   "outputs": [],
   "source": [
    "model = TripletLoss()"
   ]
  },
  {
   "cell_type": "code",
   "execution_count": 10,
   "id": "d6f3322a",
   "metadata": {},
   "outputs": [],
   "source": [
    "# placeholder_shape = [None] + list(dataset.images_train.shape[1:])\n",
    "target_shape = (28,28)"
   ]
  },
  {
   "cell_type": "code",
   "execution_count": 11,
   "id": "1dcb8595",
   "metadata": {},
   "outputs": [],
   "source": [
    "# Setup Network\n",
    "anchor_input = layers.Input(name=\"anchor\", shape=target_shape + (3,))\n",
    "positive_input = layers.Input(name=\"positive\", shape=target_shape + (3,))\n",
    "negative_input = layers.Input(name=\"negative\", shape=target_shape + (3,))"
   ]
  },
  {
   "cell_type": "code",
   "execution_count": 12,
   "id": "a9b4e4ce",
   "metadata": {},
   "outputs": [],
   "source": [
    "embedding = model.embedding()"
   ]
  },
  {
   "cell_type": "code",
   "execution_count": 13,
   "id": "14678445",
   "metadata": {},
   "outputs": [],
   "source": [
    "distances = DistanceLayer()(\n",
    "    embedding(anchor_input),\n",
    "    embedding(positive_input),\n",
    "    embedding(negative_input),\n",
    ")"
   ]
  },
  {
   "cell_type": "code",
   "execution_count": 14,
   "id": "2054ef70",
   "metadata": {},
   "outputs": [],
   "source": [
    "siamese_network = Model(\n",
    "    inputs=[anchor_input, positive_input, negative_input], outputs=distances\n",
    ")"
   ]
  },
  {
   "cell_type": "code",
   "execution_count": 15,
   "id": "54fbbc5d",
   "metadata": {},
   "outputs": [],
   "source": [
    "data = dataset.get_triplets_batch()"
   ]
  },
  {
   "cell_type": "code",
   "execution_count": 16,
   "id": "451adaff",
   "metadata": {},
   "outputs": [],
   "source": [
    "count = len(dataset.labels_train)"
   ]
  },
  {
   "cell_type": "code",
   "execution_count": 17,
   "id": "3df66ff0",
   "metadata": {},
   "outputs": [],
   "source": [
    "train_dataset = data.take(round(count * 0.8))\n",
    "val_dataset = data.skip(round(count * 0.8))"
   ]
  },
  {
   "cell_type": "code",
   "execution_count": 18,
   "id": "fcdb6068",
   "metadata": {},
   "outputs": [],
   "source": [
    "train_dataset = train_dataset.batch(32, drop_remainder=False)\n",
    "train_dataset = train_dataset.prefetch(8)\n",
    "\n",
    "val_dataset = val_dataset.batch(32, drop_remainder=False)\n",
    "val_dataset = val_dataset.prefetch(8)"
   ]
  },
  {
   "cell_type": "code",
   "execution_count": 19,
   "id": "20bb7ca5",
   "metadata": {},
   "outputs": [],
   "source": [
    "class SiameseModel(Model):\n",
    "    \"\"\"The Siamese Network model with a custom training and testing loops.\n",
    "\n",
    "    Computes the triplet loss using the three embeddings produced by the\n",
    "    Siamese Network.\n",
    "\n",
    "    The triplet loss is defined as:\n",
    "       L(A, P, N) = max(‖f(A) - f(P)‖² - ‖f(A) - f(N)‖² + margin, 0)\n",
    "    \"\"\"\n",
    "\n",
    "    def __init__(self, siamese_network, margin=0.5):\n",
    "        super(SiameseModel, self).__init__()\n",
    "        self.siamese_network = siamese_network\n",
    "        self.margin = margin\n",
    "        self.loss_tracker = metrics.Mean(name=\"loss\")\n",
    "\n",
    "    def call(self, inputs):\n",
    "        return self.siamese_network(inputs)\n",
    "\n",
    "    def train_step(self, data):\n",
    "        \n",
    "        with tf.GradientTape() as tape:\n",
    "            loss = self._compute_loss(data)\n",
    "\n",
    "        # Storing the gradients of the loss function with respect to the\n",
    "        # weights/parameters.\n",
    "        gradients = tape.gradient(loss, self.siamese_network.trainable_weights)\n",
    "\n",
    "        # Applying the gradients on the model using the specified optimizer\n",
    "        self.optimizer.apply_gradients(\n",
    "            zip(gradients, self.siamese_network.trainable_weights)\n",
    "        )\n",
    "\n",
    "        self.loss_tracker.update_state(loss)\n",
    "        return {\"loss\": self.loss_tracker.result()}\n",
    "\n",
    "    def test_step(self, data):\n",
    "        loss = self._compute_loss(data)\n",
    "\n",
    "        self.loss_tracker.update_state(loss)\n",
    "        return {\"loss\": self.loss_tracker.result()}\n",
    "\n",
    "    def _compute_loss(self, data):\n",
    "\n",
    "        ap_distance, an_distance = self.siamese_network(data)\n",
    "\n",
    "        # Computing the Triplet Loss by subtracting both distances and\n",
    "        # making sure we don't get a negative value.\n",
    "        loss = ap_distance - an_distance\n",
    "        loss = tf.maximum(loss + self.margin, 0.0)\n",
    "        return loss\n",
    "\n",
    "    @property\n",
    "    def metrics(self):\n",
    "        # List metrics here so the `reset_states()` can be called automatically.\n",
    "        return [self.loss_tracker]"
   ]
  },
  {
   "cell_type": "code",
   "execution_count": 20,
   "id": "0aed0e83",
   "metadata": {},
   "outputs": [
    {
     "name": "stdout",
     "output_type": "stream",
     "text": [
      "Epoch 1/40\n"
     ]
    },
    {
     "name": "stderr",
     "output_type": "stream",
     "text": [
      "2022-03-21 19:42:25.270545: I tensorflow/stream_executor/cuda/cuda_dnn.cc:366] Loaded cuDNN version 8301\n"
     ]
    },
    {
     "name": "stdout",
     "output_type": "stream",
     "text": [
      "675/675 [==============================] - 10s 10ms/step - loss: 0.1208 - val_loss: 0.0796\n",
      "Epoch 2/40\n",
      "675/675 [==============================] - 7s 10ms/step - loss: 0.0684 - val_loss: 0.0576\n",
      "Epoch 3/40\n",
      "675/675 [==============================] - 7s 10ms/step - loss: 0.0573 - val_loss: 0.0612\n",
      "Epoch 4/40\n",
      "675/675 [==============================] - 7s 10ms/step - loss: 0.0516 - val_loss: 0.0519\n",
      "Epoch 5/40\n",
      "675/675 [==============================] - 7s 10ms/step - loss: 0.0467 - val_loss: 0.0516\n",
      "Epoch 6/40\n",
      "675/675 [==============================] - 7s 10ms/step - loss: 0.0423 - val_loss: 0.0415\n",
      "Epoch 7/40\n",
      "675/675 [==============================] - 7s 10ms/step - loss: 0.0392 - val_loss: 0.0440\n",
      "Epoch 8/40\n",
      "675/675 [==============================] - 7s 10ms/step - loss: 0.0365 - val_loss: 0.0502\n",
      "Epoch 9/40\n",
      "675/675 [==============================] - 7s 10ms/step - loss: 0.0338 - val_loss: 0.0486\n",
      "Epoch 10/40\n",
      "675/675 [==============================] - 7s 10ms/step - loss: 0.0312 - val_loss: 0.0498\n",
      "Epoch 11/40\n",
      "675/675 [==============================] - 7s 10ms/step - loss: 0.0300 - val_loss: 0.0487\n",
      "Epoch 12/40\n",
      "675/675 [==============================] - 7s 10ms/step - loss: 0.0283 - val_loss: 0.0414\n",
      "Epoch 13/40\n",
      "675/675 [==============================] - 7s 10ms/step - loss: 0.0263 - val_loss: 0.0480\n",
      "Epoch 14/40\n",
      "675/675 [==============================] - 7s 10ms/step - loss: 0.0246 - val_loss: 0.0504\n",
      "Epoch 15/40\n",
      "675/675 [==============================] - 7s 10ms/step - loss: 0.0233 - val_loss: 0.0302\n",
      "Epoch 16/40\n",
      "675/675 [==============================] - 7s 10ms/step - loss: 0.0211 - val_loss: 0.0386\n",
      "Epoch 17/40\n",
      "675/675 [==============================] - 7s 11ms/step - loss: 0.0207 - val_loss: 0.0335\n",
      "Epoch 18/40\n",
      "675/675 [==============================] - 7s 10ms/step - loss: 0.0197 - val_loss: 0.0362\n",
      "Epoch 19/40\n",
      "675/675 [==============================] - 7s 10ms/step - loss: 0.0184 - val_loss: 0.0299\n",
      "Epoch 20/40\n",
      "675/675 [==============================] - 7s 10ms/step - loss: 0.0166 - val_loss: 0.0287\n",
      "Epoch 21/40\n",
      "675/675 [==============================] - 7s 10ms/step - loss: 0.0158 - val_loss: 0.0351\n",
      "Epoch 22/40\n",
      "675/675 [==============================] - 7s 10ms/step - loss: 0.0145 - val_loss: 0.0286\n",
      "Epoch 23/40\n",
      "675/675 [==============================] - 7s 10ms/step - loss: 0.0141 - val_loss: 0.0403\n",
      "Epoch 24/40\n",
      "675/675 [==============================] - 7s 10ms/step - loss: 0.0141 - val_loss: 0.0336\n",
      "Epoch 25/40\n",
      "675/675 [==============================] - 7s 10ms/step - loss: 0.0121 - val_loss: 0.0389\n",
      "Epoch 26/40\n",
      "675/675 [==============================] - 7s 10ms/step - loss: 0.0118 - val_loss: 0.0320\n",
      "Epoch 27/40\n",
      "675/675 [==============================] - 7s 10ms/step - loss: 0.0102 - val_loss: 0.0302\n",
      "Epoch 28/40\n",
      "675/675 [==============================] - 7s 10ms/step - loss: 0.0095 - val_loss: 0.0338\n",
      "Epoch 29/40\n",
      "675/675 [==============================] - 7s 11ms/step - loss: 0.0093 - val_loss: 0.0319\n",
      "Epoch 30/40\n",
      "675/675 [==============================] - 7s 11ms/step - loss: 0.0096 - val_loss: 0.0311\n",
      "Epoch 31/40\n",
      "675/675 [==============================] - 7s 10ms/step - loss: 0.0088 - val_loss: 0.0284\n",
      "Epoch 32/40\n",
      "675/675 [==============================] - 7s 10ms/step - loss: 0.0074 - val_loss: 0.0276\n",
      "Epoch 33/40\n",
      "675/675 [==============================] - 7s 10ms/step - loss: 0.0082 - val_loss: 0.0328\n",
      "Epoch 34/40\n",
      "675/675 [==============================] - 7s 10ms/step - loss: 0.0063 - val_loss: 0.0284\n",
      "Epoch 35/40\n",
      "675/675 [==============================] - 7s 10ms/step - loss: 0.0060 - val_loss: 0.0320\n",
      "Epoch 36/40\n",
      "675/675 [==============================] - 6s 10ms/step - loss: 0.0072 - val_loss: 0.0320\n",
      "Epoch 37/40\n",
      "675/675 [==============================] - 6s 10ms/step - loss: 0.0074 - val_loss: 0.0295\n",
      "Epoch 38/40\n",
      "675/675 [==============================] - 6s 10ms/step - loss: 0.0047 - val_loss: 0.0314\n",
      "Epoch 39/40\n",
      "675/675 [==============================] - 7s 10ms/step - loss: 0.0051 - val_loss: 0.0300\n",
      "Epoch 40/40\n",
      "675/675 [==============================] - 7s 10ms/step - loss: 0.0057 - val_loss: 0.0325\n"
     ]
    },
    {
     "data": {
      "text/plain": [
       "<keras.callbacks.History at 0x7f214e3440a0>"
      ]
     },
     "execution_count": 20,
     "metadata": {},
     "output_type": "execute_result"
    }
   ],
   "source": [
    "siamese_model = SiameseModel(siamese_network)\n",
    "siamese_model.compile(optimizer=optimizers.Adam(0.0001), metrics=['accuracy'])\n",
    "siamese_model.fit(train_dataset, epochs=40, validation_data=val_dataset)"
   ]
  },
  {
   "cell_type": "code",
   "execution_count": 45,
   "id": "cbe14322",
   "metadata": {
    "scrolled": true
   },
   "outputs": [],
   "source": [
    "def visualize(anchor, positive, negative):\n",
    "    \"\"\"Visualize a few triplets from the supplied batches.\"\"\"\n",
    "\n",
    "    def show(ax, image):\n",
    "        ax.imshow(image)\n",
    "        ax.get_xaxis().set_visible(False)\n",
    "        ax.get_yaxis().set_visible(False)\n",
    "\n",
    "    fig = plt.figure(figsize=(9, 9))\n",
    "\n",
    "    axs = fig.subplots(3, 3)\n",
    "    for i in range(3):\n",
    "        show(axs[i, 0], anchor[i])\n",
    "        show(axs[i, 1], positive[i])\n",
    "        show(axs[i, 2], negative[i])"
   ]
  },
  {
   "cell_type": "code",
   "execution_count": 46,
   "id": "8c531e1e",
   "metadata": {},
   "outputs": [
    {
     "name": "stderr",
     "output_type": "stream",
     "text": [
      "2022-03-21 19:59:50.970701: I tensorflow/stream_executor/cuda/cuda_blas.cc:1774] TensorFloat-32 will be used for the matrix multiplication. This will only be logged once.\n"
     ]
    },
    {
     "data": {
      "image/png": "[encoded data removed]",
      "text/plain": [
       "<Figure size 648x648 with 9 Axes>"
      ]
     },
     "metadata": {
      "needs_background": "light"
     },
     "output_type": "display_data"
    }
   ],
   "source": [
    "sample = next(iter(train_dataset))\n",
    "visualize(*sample)\n",
    "\n",
    "anchor, positive, negative = sample\n",
    "anchor_embedding, positive_embedding, negative_embedding = (\n",
    "    embedding(anchor),\n",
    "    embedding(positive),\n",
    "    embedding(negative),\n",
    ")"
   ]
  },
  {
   "cell_type": "code",
   "execution_count": 47,
   "id": "56375f45",
   "metadata": {},
   "outputs": [
    {
     "name": "stdout",
     "output_type": "stream",
     "text": [
      "Positive similarity: 0.93475497\n",
      "Negative similarity 0.7960668\n"
     ]
    }
   ],
   "source": [
    "cosine_similarity = metrics.CosineSimilarity()\n",
    "\n",
    "positive_similarity = cosine_similarity(anchor_embedding, positive_embedding)\n",
    "negative_similarity = cosine_similarity(anchor_embedding, negative_embedding)\n",
    "print(\"Positive similarity:\", positive_similarity.numpy())\n",
    "print(\"Negative similarity\", negative_similarity.numpy())"
   ]
  },
  {
   "cell_type": "code",
   "execution_count": 37,
   "id": "5800bcf6",
   "metadata": {},
   "outputs": [],
   "source": [
    "def find_k_nn(normalized_train_vectors,vec,k):\n",
    "    dist_arr = np.matmul(normalized_train_vectors, vec.T)\n",
    "    return np.argsort(-dist_arr.flatten())[:k]"
   ]
  },
  {
   "cell_type": "code",
   "execution_count": 38,
   "id": "a4ca5263",
   "metadata": {},
   "outputs": [],
   "source": [
    "train_vectors = embedding.predict(train_dataset)"
   ]
  },
  {
   "cell_type": "code",
   "execution_count": 39,
   "id": "d3a396e2",
   "metadata": {},
   "outputs": [],
   "source": [
    "# unit vectors = vectors / norm\n",
    "normalized_train_vectors = train_vectors/np.linalg.norm(train_vectors,axis=1).reshape(-1,1)"
   ]
  },
  {
   "cell_type": "code",
   "execution_count": 36,
   "id": "d04eab66",
   "metadata": {},
   "outputs": [],
   "source": [
    "im_iter = next(iter(train_dataset))\n",
    "images = [tf.data.Dataset.from_tensor_slices(im_i) for im_i in im_iter]\n",
    "# images = [im_i.numpy() for im_i in im_iter]"
   ]
  },
  {
   "cell_type": "code",
   "execution_count": 37,
   "id": "960f531f",
   "metadata": {},
   "outputs": [],
   "source": [
    "# im_batch = [tf.expand_dims(im, axis=0) for im in images]\n",
    "im_batch = [im.batch(1, drop_remainder=False) for im in images]"
   ]
  },
  {
   "cell_type": "code",
   "execution_count": 42,
   "id": "9dbc0232",
   "metadata": {},
   "outputs": [
    {
     "data": {
      "text/plain": [
       "[<BatchDataset shapes: (None, 28, 28, 3), types: tf.float64>,\n",
       " <BatchDataset shapes: (None, 28, 28, 3), types: tf.float64>,\n",
       " <BatchDataset shapes: (None, 28, 28, 3), types: tf.float64>]"
      ]
     },
     "execution_count": 42,
     "metadata": {},
     "output_type": "execute_result"
    }
   ],
   "source": [
    "im_batch"
   ]
  },
  {
   "cell_type": "code",
   "execution_count": 43,
   "id": "3e110118",
   "metadata": {},
   "outputs": [],
   "source": [
    "sample = tf.data.Dataset.zip((im_batch[0], im_batch[1], im_batch[2]))"
   ]
  },
  {
   "cell_type": "code",
   "execution_count": 44,
   "id": "b5222275",
   "metadata": {},
   "outputs": [],
   "source": [
    "search_vector = embedding.predict(sample)"
   ]
  },
  {
   "cell_type": "code",
   "execution_count": 136,
   "id": "78c29bcb",
   "metadata": {},
   "outputs": [],
   "source": [
    "normalized_search_vec = search_vector/np.linalg.norm(search_vector)"
   ]
  },
  {
   "cell_type": "code",
   "execution_count": 140,
   "id": "41949b20",
   "metadata": {},
   "outputs": [],
   "source": [
    "k = 10\n",
    "candidate_index = find_k_nn(normalized_train_vectors, normalized_search_vec, k)"
   ]
  },
  {
   "cell_type": "code",
   "execution_count": 141,
   "id": "6e7ee973",
   "metadata": {},
   "outputs": [],
   "source": [
    "def show_image(idxs, data):\n",
    "    if type(idxs) != np.ndarray:\n",
    "        idxs = np.array([idxs])\n",
    "    fig = plt.figure()\n",
    "    gs = gridspec.GridSpec(1,len(idxs))\n",
    "    for i in range(len(idxs)):\n",
    "        ax = fig.add_subplot(gs[0,i])\n",
    "        ax.imshow(data[idxs[i],:,:,:])\n",
    "        ax.axis('off')\n",
    "    plt.show()"
   ]
  },
  {
   "cell_type": "code",
   "execution_count": 148,
   "id": "1c136988",
   "metadata": {},
   "outputs": [
    {
     "ename": "NameError",
     "evalue": "name 'idxs' is not defined",
     "output_type": "error",
     "traceback": [
      "\u001b[0;31m---------------------------------------------------------------------------\u001b[0m",
      "\u001b[0;31mNameError\u001b[0m                                 Traceback (most recent call last)",
      "\u001b[0;32m/tmp/ipykernel_181715/3705360426.py\u001b[0m in \u001b[0;36m<module>\u001b[0;34m\u001b[0m\n\u001b[1;32m      3\u001b[0m \u001b[0;32mfor\u001b[0m \u001b[0mi\u001b[0m \u001b[0;32min\u001b[0m \u001b[0mrange\u001b[0m\u001b[0;34m(\u001b[0m\u001b[0;36m1\u001b[0m\u001b[0;34m)\u001b[0m\u001b[0;34m:\u001b[0m\u001b[0;34m\u001b[0m\u001b[0;34m\u001b[0m\u001b[0m\n\u001b[1;32m      4\u001b[0m     \u001b[0max\u001b[0m \u001b[0;34m=\u001b[0m \u001b[0mfig\u001b[0m\u001b[0;34m.\u001b[0m\u001b[0madd_subplot\u001b[0m\u001b[0;34m(\u001b[0m\u001b[0mgs\u001b[0m\u001b[0;34m[\u001b[0m\u001b[0;36m0\u001b[0m\u001b[0;34m,\u001b[0m \u001b[0mi\u001b[0m\u001b[0;34m]\u001b[0m\u001b[0;34m)\u001b[0m\u001b[0;34m\u001b[0m\u001b[0;34m\u001b[0m\u001b[0m\n\u001b[0;32m----> 5\u001b[0;31m     \u001b[0max\u001b[0m\u001b[0;34m.\u001b[0m\u001b[0mimshow\u001b[0m\u001b[0;34m(\u001b[0m\u001b[0mtest_images\u001b[0m\u001b[0;34m[\u001b[0m\u001b[0midxs\u001b[0m\u001b[0;34m[\u001b[0m\u001b[0mi\u001b[0m\u001b[0;34m]\u001b[0m\u001b[0;34m,\u001b[0m \u001b[0;34m:\u001b[0m\u001b[0;34m,\u001b[0m \u001b[0;34m:\u001b[0m\u001b[0;34m,\u001b[0m \u001b[0;34m:\u001b[0m\u001b[0;34m]\u001b[0m\u001b[0;34m)\u001b[0m\u001b[0;34m\u001b[0m\u001b[0;34m\u001b[0m\u001b[0m\n\u001b[0m\u001b[1;32m      6\u001b[0m     \u001b[0max\u001b[0m\u001b[0;34m.\u001b[0m\u001b[0maxis\u001b[0m\u001b[0;34m(\u001b[0m\u001b[0;34m'off'\u001b[0m\u001b[0;34m)\u001b[0m\u001b[0;34m\u001b[0m\u001b[0;34m\u001b[0m\u001b[0m\n\u001b[1;32m      7\u001b[0m \u001b[0mplt\u001b[0m\u001b[0;34m.\u001b[0m\u001b[0mshow\u001b[0m\u001b[0;34m(\u001b[0m\u001b[0;34m)\u001b[0m\u001b[0;34m\u001b[0m\u001b[0;34m\u001b[0m\u001b[0m\n",
      "\u001b[0;31mNameError\u001b[0m: name 'idxs' is not defined"
     ]
    },
    {
     "data": {
      "image/png": "[encoded data removed]",
      "text/plain": [
       "<Figure size 720x57.6 with 1 Axes>"
      ]
     },
     "metadata": {
      "needs_background": "light"
     },
     "output_type": "display_data"
    }
   ],
   "source": [
    "fig = plt.figure(figsize=(10, 0.8))\n",
    "gs = gridspec.GridSpec(1, 1)\n",
    "for i in range(1):\n",
    "    ax = fig.add_subplot(gs[0, i])\n",
    "    ax.imshow(test_images[idxs[i], :, :, :])\n",
    "    ax.axis('off')\n",
    "plt.show()\n",
    "show_image(candidate_index, train_images)"
   ]
  },
  {
   "cell_type": "code",
   "execution_count": null,
   "id": "c2b21df1",
   "metadata": {},
   "outputs": [],
   "source": []
  },
  {
   "cell_type": "code",
   "execution_count": null,
   "id": "f797e821",
   "metadata": {},
   "outputs": [],
   "source": []
  },
  {
   "cell_type": "code",
   "execution_count": null,
   "id": "a993086d",
   "metadata": {},
   "outputs": [],
   "source": []
  },
  {
   "cell_type": "code",
   "execution_count": null,
   "id": "d99abc5d",
   "metadata": {},
   "outputs": [],
   "source": []
  },
  {
   "cell_type": "code",
   "execution_count": null,
   "id": "3978013c",
   "metadata": {},
   "outputs": [],
   "source": []
  },
  {
   "cell_type": "code",
   "execution_count": null,
   "id": "f161cbb7",
   "metadata": {},
   "outputs": [],
   "source": []
  },
  {
   "cell_type": "code",
   "execution_count": null,
   "id": "1d5ba2af",
   "metadata": {},
   "outputs": [],
   "source": []
  },
  {
   "cell_type": "code",
   "execution_count": null,
   "id": "0613394e",
   "metadata": {},
   "outputs": [],
   "source": []
  }
 ],
 "metadata": {
  "kernelspec": {
   "display_name": "Python 3 (ipykernel)",
   "language": "python",
   "name": "python3"
  },
  "language_info": {
   "codemirror_mode": {
    "name": "ipython",
    "version": 3
   },
   "file_extension": ".py",
   "mimetype": "text/x-python",
   "name": "python",
   "nbconvert_exporter": "python",
   "pygments_lexer": "ipython3",
   "version": "3.8.10"
  }
 },
 "nbformat": 4,
 "nbformat_minor": 5
}
